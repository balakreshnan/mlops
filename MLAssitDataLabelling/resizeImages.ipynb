{
 "cells": [
  {
   "cell_type": "code",
   "execution_count": null,
   "metadata": {},
   "outputs": [],
   "source": [
    "# importing Image module from PIL package  \n",
    "from PIL import Image  \n",
    "   \n",
    "# opening a  image  \n",
    "im = Image.open(r\"C:\\Users\\System-Pc\\Desktop\\lion.png\").convert(\"L\")  \n",
    "   \n",
    "# getting colors  \n",
    "# multiband images (RBG)  \n",
    "im1 = Image.Image.getdata(im)  \n",
    "   \n",
    "print(im1)  "
   ]
  },
  {
   "cell_type": "code",
   "execution_count": 3,
   "metadata": {},
   "outputs": [
    {
     "name": "stdout",
     "output_type": "stream",
     "text": [
      "16516091\n",
      "Image resolution: \n",
      "(5472, 3648)\n"
     ]
    }
   ],
   "source": [
    "import os\n",
    "from PIL import Image\n",
    "print (os.stat(\"./images/_CJsaJDXzFbkNetExXds4jQ==..jpg\").st_size)\n",
    "# My image is a 5472x3648 jpeg that is 16.5MB large\n",
    "foo = Image.open(\"./images/_CJsaJDXzFbkNetExXds4jQ==..jpg\")\n",
    "print(\"Image resolution: \")\n",
    "print(foo.size)"
   ]
  },
  {
   "cell_type": "code",
   "execution_count": 8,
   "metadata": {},
   "outputs": [
    {
     "name": "stdout",
     "output_type": "stream",
     "text": [
      "3484.120422441363\n",
      "2322.746948294242\n"
     ]
    }
   ],
   "source": [
    "resizeFactor = (16516091 - 6000000)/16516091\n",
    "print(resizeFactor * 5472)\n",
    "print(resizeFactor * 3648)"
   ]
  },
  {
   "cell_type": "code",
   "execution_count": 11,
   "metadata": {},
   "outputs": [],
   "source": [
    "# I downsize the image with an ANTIALIAS filter (gives the highest quality)\n",
    "foo = foo.resize((3484,2323),Image.ANTIALIAS)\n",
    "foo.save(\"./imagesResize/_CJsaJDXzFbkNetExXds4jQ==..jpg\",optimize=True,quality=95)\n",
    " # The saved downsized image size is 5.9MB"
   ]
  }
 ],
 "metadata": {
  "kernelspec": {
   "display_name": "Python 3.6 - AzureML",
   "language": "python",
   "name": "python3-azureml"
  },
  "language_info": {
   "codemirror_mode": {
    "name": "ipython",
    "version": 3
   },
   "file_extension": ".py",
   "mimetype": "text/x-python",
   "name": "python",
   "nbconvert_exporter": "python",
   "pygments_lexer": "ipython3",
   "version": "3.6.9"
  }
 },
 "nbformat": 4,
 "nbformat_minor": 2
}
